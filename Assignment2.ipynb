{
 "cells": [
  {
   "cell_type": "code",
   "execution_count": 4,
   "id": "6bc9cfdd",
   "metadata": {},
   "outputs": [
    {
     "name": "stdout",
     "output_type": "stream",
     "text": [
      "Enter the first number:12\n",
      "Enter the second number:20\n",
      "LCM is: 60\n"
     ]
    }
   ],
   "source": [
    "if(a>b):\n",
    "        great=a\n",
    "    else:\n",
    "        greater=b\n",
    "    while(1):\n",
    "        if(greater%a==0 and greater%b==0):\n",
    "            lcm=greater\n",
    "            print(\"LCM is:\",lcm)\n",
    "            break\n",
    "        greater+=1\n",
    "a=int(input(\"Enter the first number:\"))\n",
    "b=int(input(\"Enter the second number:\"))\n",
    "lcm(a,b)"
   ]
  },
  {
   "cell_type": "code",
   "execution_count": 11,
   "id": "85115ebd",
   "metadata": {},
   "outputs": [
    {
     "name": "stdout",
     "output_type": "stream",
     "text": [
      "Enter first number1\n",
      "Enter second number2\n",
      "Enter an operator(+,-,*,/,**)**\n",
      "1.0 ** 2.0\n",
      "= 1.0\n"
     ]
    }
   ],
   "source": [
    "def calculate(a,b):\n",
    "    if op == '+':\n",
    "        return a + b\n",
    "    elif op == '-':\n",
    "        return a - b\n",
    "    elif op == '*':\n",
    "        return a * b\n",
    "    elif op == '/':\n",
    "        return a / b\n",
    "    elif op == '**':\n",
    "        return a ** b\n",
    "    else:\n",
    "        return \"Enter valid operator\"\n",
    "a=float(input(\"Enter first number\"))\n",
    "b=float(input(\"Enter second number\"))\n",
    "op=input(\"Enter an operator(+,-,*,/,**)\")\n",
    "print(a,op,b)\n",
    "result=calculate(a,b)\n",
    "print(\"=\",result)"
   ]
  },
  {
   "cell_type": "code",
   "execution_count": 13,
   "id": "8f12695a",
   "metadata": {},
   "outputs": [
    {
     "name": "stdout",
     "output_type": "stream",
     "text": [
      "[1, 2, 3, 4, 2, 3, 4, 5]\n"
     ]
    }
   ],
   "source": [
    "l1=[1,2,3,4]\n",
    "l2=[2,3,4,5]\n",
    "l1.extend(l2)\n",
    "print(l1)"
   ]
  },
  {
   "cell_type": "code",
   "execution_count": 14,
   "id": "9a24fe46",
   "metadata": {},
   "outputs": [
    {
     "name": "stdout",
     "output_type": "stream",
     "text": [
      "[1, 2, 3, 4, 2, 3, 4, 5]\n"
     ]
    }
   ],
   "source": [
    "l1=[1,2,3,4]\n",
    "l2=[2,3,4,5]\n",
    "for i in l2:\n",
    "    l1.append(i)\n",
    "print(l1)"
   ]
  },
  {
   "cell_type": "code",
   "execution_count": 16,
   "id": "9a4591c2",
   "metadata": {},
   "outputs": [
    {
     "name": "stdout",
     "output_type": "stream",
     "text": [
      "List elements are:\n",
      "[2, 3, 4, 5, 6]\n",
      "Lists are mutable\n",
      "[2, 3, 4, 22, 6]\n",
      "Tupple elements are: \n",
      "(2, 4, 65, 7)\n",
      "Lists are immutable\n"
     ]
    },
    {
     "ename": "TypeError",
     "evalue": "'tuple' object does not support item assignment",
     "output_type": "error",
     "traceback": [
      "\u001b[0;31m---------------------------------------------------------------------------\u001b[0m",
      "\u001b[0;31mTypeError\u001b[0m                                 Traceback (most recent call last)",
      "\u001b[0;32m/tmp/ipykernel_4053/1468958430.py\u001b[0m in \u001b[0;36m<module>\u001b[0;34m\u001b[0m\n\u001b[1;32m      9\u001b[0m \u001b[0mprint\u001b[0m\u001b[0;34m(\u001b[0m\u001b[0mt1\u001b[0m\u001b[0;34m)\u001b[0m\u001b[0;34m\u001b[0m\u001b[0;34m\u001b[0m\u001b[0m\n\u001b[1;32m     10\u001b[0m \u001b[0mprint\u001b[0m\u001b[0;34m(\u001b[0m\u001b[0;34m\"Lists are immutable\"\u001b[0m\u001b[0;34m)\u001b[0m\u001b[0;34m\u001b[0m\u001b[0;34m\u001b[0m\u001b[0m\n\u001b[0;32m---> 11\u001b[0;31m \u001b[0mt1\u001b[0m\u001b[0;34m[\u001b[0m\u001b[0;36m3\u001b[0m\u001b[0;34m]\u001b[0m\u001b[0;34m=\u001b[0m\u001b[0;36m23\u001b[0m\u001b[0;34m\u001b[0m\u001b[0;34m\u001b[0m\u001b[0m\n\u001b[0m\u001b[1;32m     12\u001b[0m \u001b[0mprint\u001b[0m\u001b[0;34m(\u001b[0m\u001b[0mt1\u001b[0m\u001b[0;34m)\u001b[0m\u001b[0;34m\u001b[0m\u001b[0;34m\u001b[0m\u001b[0m\n",
      "\u001b[0;31mTypeError\u001b[0m: 'tuple' object does not support item assignment"
     ]
    }
   ],
   "source": [
    "l1=[2,3,4,5,6]\n",
    "t1=(2,4,65,7)\n",
    "print(\"List elements are:\")\n",
    "print(l1)\n",
    "print(\"Lists are mutable\")\n",
    "l1[3]=22\n",
    "print(l1)\n",
    "print(\"Tuple elements are: \")\n",
    "print(t1)\n",
    "print(\"Lists are immutable\")\n",
    "t1[3]=23\n",
    "print(t1)"
   ]
  },
  {
   "cell_type": "code",
   "execution_count": 30,
   "id": "31bcdfbb",
   "metadata": {},
   "outputs": [
    {
     "name": "stdout",
     "output_type": "stream",
     "text": [
      "List:\n",
      "Length= 4\n",
      "Maximum= 99\n",
      "Minimum= 34\n",
      "Sum= 267\n",
      "Soreted list= [34, 56, 78, 99]\n",
      "Tuple:\n",
      "Length= 5\n",
      "Maximum= 9\n",
      "Minimum= 2\n",
      "Sum= 26\n",
      "Soreted tuple= (2, 3, 5, 7, 9)\n"
     ]
    }
   ],
   "source": [
    "l1=[34,56,78,99]\n",
    "t1=(9,7,5,2,3)\n",
    "print(\"List:\")\n",
    "print(\"Length=\",len(l1))\n",
    "print(\"Maximum=\",max(l1))\n",
    "print(\"Minimum=\",min(l1))\n",
    "print(\"Sum=\",sum(l1))\n",
    "print(\"Soreted list=\",sorted(l1))\n",
    "print(\"Tuple:\")\n",
    "print(\"Length=\",len(t1))\n",
    "print(\"Maximum=\",max(t1))\n",
    "print(\"Minimum=\",min(t1))\n",
    "print(\"Sum=\",sum(t1))\n",
    "print(\"Soreted tuple=\",tuple(sorted(t1)))\n"
   ]
  },
  {
   "cell_type": "code",
   "execution_count": 36,
   "id": "25da1c3f",
   "metadata": {},
   "outputs": [
    {
     "name": "stdout",
     "output_type": "stream",
     "text": [
      "[34, 56, 78, 99]\n",
      "(9, 7, 5, 2, 3)\n",
      "After converting\n",
      "[9, 7, 5, 2, 3]\n",
      "(34, 56, 78, 99)\n",
      "['D', 'e', 'm', 'o', 'n', 's', 't', 'a', 'r', 't', 'i', 'o', 'n']\n"
     ]
    }
   ],
   "source": [
    "l1=[34,56,78,99]\n",
    "t1=(9,7,5,2,3)\n",
    "string=\"Demonstartion\"\n",
    "print(l1)\n",
    "print(t1)\n",
    "print(\"After converting\")\n",
    "print(list(t1))\n",
    "print(tuple(l1))\n",
    "print(list(string))"
   ]
  },
  {
   "cell_type": "code",
   "execution_count": 68,
   "id": "63341b3c",
   "metadata": {},
   "outputs": [
    {
     "name": "stdout",
     "output_type": "stream",
     "text": [
      "{'name': 'Chiru', 'age': 21}\n",
      "{'name': 'Chiru', 'age': 21}\n",
      "{'a1': 100, 'a2': 100, 'a3': 100}\n",
      "21\n",
      "dict_items([('name', 'Chiru'), ('age', 21)])\n",
      "dict_keys(['name', 'age'])\n",
      "{'a1': 100, 'a2': 100}\n",
      "Mangalore\n",
      "{'name': 'Chiru', 'age': 21, 'city': 'Mangalore', 'place': 'Mulki'}\n",
      "dict_values(['Chiru', 21, 'Mangalore', 'Mulki'])\n",
      "{}\n"
     ]
    }
   ],
   "source": [
    "dict1=dict({\"name\":\"Chiru\",\"age\":21})\n",
    "print(dict1)\n",
    "\n",
    "#print(dict1[\"name\"])\n",
    "\n",
    "dict2=dict1.copy()\n",
    "print(dict2)\n",
    "\n",
    "key=['a1','a2','a3']\n",
    "val=100\n",
    "c=dict.fromkeys(key,val)\n",
    "print(c)\n",
    "\n",
    "x=dict1.get(\"age\")\n",
    "print(x)\n",
    "\n",
    "item=dict1.items()\n",
    "print(item)\n",
    "\n",
    "key=dict1.keys()\n",
    "print(key)\n",
    "\n",
    "c.pop('a3')\n",
    "print(c)\n",
    "\n",
    "c.popitem()\n",
    "\n",
    "x = dict1.setdefault(\"city\", \"Mangalore\")\n",
    "print(x)\n",
    "\n",
    "dict1.update({\"place\": \"Mulki\"})\n",
    "print(dict1)\n",
    "\n",
    "print(dict1.values())\n",
    "\n",
    "c.clear()\n",
    "print(c)"
   ]
  },
  {
   "cell_type": "code",
   "execution_count": 79,
   "id": "933de942",
   "metadata": {},
   "outputs": [
    {
     "name": "stdout",
     "output_type": "stream",
     "text": [
      "[10, 30, 90, 45]\n",
      "[20, 90]\n",
      "[45, 120, 90, 40, 30, 20, 10]\n",
      "[90, 120, 45]\n"
     ]
    }
   ],
   "source": [
    "l1=[10,20,30,40,90,120,45]\n",
    "print(l1[::2])\n",
    "print(l1[1::3])\n",
    "print(l1[::-1])\n",
    "print(l1[-3::1])"
   ]
  },
  {
   "cell_type": "code",
   "execution_count": 84,
   "id": "0e9b3269",
   "metadata": {},
   "outputs": [
    {
     "name": "stdout",
     "output_type": "stream",
     "text": [
      "Second largest 34\n",
      "Second smallest 12\n"
     ]
    }
   ],
   "source": [
    "def second(l1):\n",
    "    length=len(l1)\n",
    "    l1.sort()\n",
    "    print(\"Second largest\",l1[length-2])\n",
    "    print(\"Second smallest\",l1[1])\n",
    "l1=[12,34,56,1,23]\n",
    "second(l1)   \n",
    "   "
   ]
  },
  {
   "cell_type": "code",
   "execution_count": 92,
   "id": "47029311",
   "metadata": {},
   "outputs": [
    {
     "name": "stdout",
     "output_type": "stream",
     "text": [
      "Enter a number 4\n",
      "Even\n"
     ]
    }
   ],
   "source": [
    "num=int(input(\"Enter a number \"))\n",
    "result=\"ODD\"\n",
    "if num%2==0:\n",
    "    result=\"Even\"\n",
    "print(result)"
   ]
  },
  {
   "cell_type": "code",
   "execution_count": null,
   "id": "e09dcb8e",
   "metadata": {},
   "outputs": [],
   "source": []
  },
  {
   "cell_type": "code",
   "execution_count": null,
   "id": "99b502ae",
   "metadata": {},
   "outputs": [],
   "source": []
  }
 ],
 "metadata": {
  "kernelspec": {
   "display_name": "Python 3 (ipykernel)",
   "language": "python",
   "name": "python3"
  },
  "language_info": {
   "codemirror_mode": {
    "name": "ipython",
    "version": 3
   },
   "file_extension": ".py",
   "mimetype": "text/x-python",
   "name": "python",
   "nbconvert_exporter": "python",
   "pygments_lexer": "ipython3",
   "version": "3.9.7"
  }
 },
 "nbformat": 4,
 "nbformat_minor": 5
}
