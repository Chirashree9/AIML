{
 "cells": [
  {
   "cell_type": "code",
   "execution_count": 13,
   "id": "f83f560f-3306-4856-aee0-0cc7ca46c1f6",
   "metadata": {},
   "outputs": [
    {
     "name": "stdout",
     "output_type": "stream",
     "text": [
      "Intercept (β0): 38.873096698267545\n",
      "Coefficients (β1, β2, β3): 1.062949379773837 -0.15180574234418032 -0.4065501253204715\n",
      "Predicted Y for [50, 70, 80]: 48.87015369722906\n",
      "Predicted Y for [30, 40, 50]: 44.36184213169186\n"
     ]
    }
   ],
   "source": [
    "import pandas as pd\n",
    "import numpy as np\n",
    "\n",
    "data = pd.read_csv('Data1.csv')\n",
    "\n",
    "X = data[['X1', 'X2', 'X3']]\n",
    "Y = data['Y']\n",
    "\n",
    "X.insert(0, 'B0', 1)\n",
    "\n",
    "XT = X.T\n",
    "XTX = XT.dot(X)\n",
    "XTXINV = np.linalg.inv(XTX)\n",
    "XTY = XT.dot(Y)\n",
    "BHAT = XTXINV.dot(XTY)\n",
    "\n",
    "print(\"Intercept (β0):\", BHAT[0])\n",
    "print(\"Coefficients (β1, β2, β3):\", BHAT[1], BHAT[2] , BHAT[3])\n",
    "\n",
    "\n",
    "x1, x2, x3 = 50, 70, 80\n",
    "predicted_Y_1 =BHAT[0] +BHAT[1] * x1 + BHAT[2] * x2 + BHAT[3] * x3\n",
    "\n",
    "x1, x2, x3 = 30, 40, 50\n",
    "predicted_Y_2 =BHAT[0] +BHAT[1] * x1 + BHAT[2] * x2 + BHAT[3] * x3\n",
    "\n",
    "print(\"Predicted Y for [50, 70, 80]:\", predicted_Y_1)\n",
    "print(\"Predicted Y for [30, 40, 50]:\", predicted_Y_2)\n"
   ]
  },
  {
   "cell_type": "code",
   "execution_count": 19,
   "id": "942e4282-1252-466a-8a75-71d435157169",
   "metadata": {},
   "outputs": [
    {
     "name": "stdout",
     "output_type": "stream",
     "text": [
      "Intercept (β0): 827087.5203078985\n",
      "Coefficients (β1 for Area, β2 for Bedrooms, β3 for Age): 230.59826102645457 -167936.0972379893 -18554.365485283546\n",
      "Predicted Price for [3000, 3, 40]: 272899.3922619524\n",
      "Predicted Price for [2500, 4, 5]: 639066.9564956599\n"
     ]
    }
   ],
   "source": [
    "import numpy as np\n",
    "import pandas as pd\n",
    "\n",
    "data = pd.DataFrame({\n",
    "    'Area': [2600, 3000, 3200, 3600, 4000],\n",
    "    'Bedrooms': [3, 4, np.nan, 3, 5],\n",
    "    'Age': [20, 15, 18, 30, 8],\n",
    "    'Price': [550000, 565000, 610000, 595000, 760000]\n",
    "})\n",
    "\n",
    "data['Bedrooms'] = data['Bedrooms'].fillna(data['Bedrooms'].mean())\n",
    "\n",
    "X = data[['Area', 'Bedrooms', 'Age']]\n",
    "Y = data['Price']\n",
    "\n",
    "X.insert(0, 'B0', 1)\n",
    "\n",
    "XT = X.T\n",
    "XTX = XT.dot(X)\n",
    "XTXINV = np.linalg.inv(XTX)\n",
    "XTY = XT.dot(Y)\n",
    "BHAT = XTXINV.dot(XTY)\n",
    "\n",
    "print(\"Intercept (β0):\", BHAT[0])\n",
    "print(\"Coefficients (β1 for Area, β2 for Bedrooms, β3 for Age):\", BHAT[1], BHAT[2], BHAT[3])\n",
    "\n",
    "area, bedrooms, age = 3000, 3, 40\n",
    "predicted_price_1 = BHAT[0] + BHAT[1] * area + BHAT[2] * bedrooms + BHAT[3] * age\n",
    "\n",
    "area, bedrooms, age = 2500, 4, 5\n",
    "predicted_price_2 = BHAT[0] + BHAT[1] * area + BHAT[2] * bedrooms + BHAT[3] * age\n",
    "\n",
    "print(\"Predicted Price for [3000, 3, 40]:\", predicted_price_1)\n",
    "print(\"Predicted Price for [2500, 4, 5]:\", predicted_price_2)\n"
   ]
  },
  {
   "cell_type": "code",
   "execution_count": null,
   "id": "c1b7d90a-cd8c-4842-b9d6-c784c48373cc",
   "metadata": {},
   "outputs": [],
   "source": []
  }
 ],
 "metadata": {
  "kernelspec": {
   "display_name": "Python 3 (ipykernel)",
   "language": "python",
   "name": "python3"
  },
  "language_info": {
   "codemirror_mode": {
    "name": "ipython",
    "version": 3
   },
   "file_extension": ".py",
   "mimetype": "text/x-python",
   "name": "python",
   "nbconvert_exporter": "python",
   "pygments_lexer": "ipython3",
   "version": "3.12.4"
  }
 },
 "nbformat": 4,
 "nbformat_minor": 5
}
