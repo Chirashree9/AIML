#1
import pandas as pd
import numpy as np

data = pd.read_csv('Data1.csv')

X = data[['X1', 'X2', 'X3']]
Y = data['Y']

X.insert(0, 'B0', 1)

XT = X.T
XTX = XT.dot(X)
XTXINV = np.linalg.inv(XTX)
XTY = XT.dot(Y)
BHAT = XTXINV.dot(XTY)

print("Intercept (β0):", BHAT[0])
print("Coefficients (β1, β2, β3):", BHAT[1], BHAT[2] , BHAT[3])


x1, x2, x3 = 50, 70, 80
predicted_Y_1 = beta_0 + beta_1 * x1 + beta_2 * x2 + beta_3 * x3

x1, x2, x3 = 30, 40, 50
predicted_Y_2 = beta_0 + beta_1 * x1 + beta_2 * x2 + beta_3 * x3

print("Predicted Y for [50, 70, 80]:", predicted_Y_1)
print("Predicted Y for [30, 40, 50]:", predicted_Y_2)

Output:
Intercept (β0): 38.873096698267545
Coefficients (β1, β2, β3): 1.062949379773837 -0.15180574234418032 -0.4065501253204715
Predicted Y for [50, 70, 80]: 48.87015369722906
Predicted Y for [30, 40, 50]: 44.36184213169186

#2
import numpy as np
import pandas as pd

data = pd.DataFrame({
    'Area': [2600, 3000, 3200, 3600, 4000],
    'Bedrooms': [3, 4, np.nan, 3, 5],
    'Age': [20, 15, 18, 30, 8],
    'Price': [550000, 565000, 610000, 595000, 760000]
})

data['Bedrooms'] = data['Bedrooms'].fillna(data['Bedrooms'].mean())

X = data[['Area', 'Bedrooms', 'Age']]
Y = data['Price']

X.insert(0, 'B0', 1)

XT = X.T
XTX = XT.dot(X)
XTXINV = np.linalg.inv(XTX)
XTY = XT.dot(Y)
BHAT = XTXINV.dot(XTY)

print("Intercept (β0):", BHAT[0])
print("Coefficients (β1 for Area, β2 for Bedrooms, β3 for Age):", BHAT[1], BHAT[2], BHAT[3])

area, bedrooms, age = 3000, 3, 40
predicted_price_1 = BHAT[0] + BHAT[1] * area + BHAT[2] * bedrooms + BHAT[3] * age

area, bedrooms, age = 2500, 4, 5
predicted_price_2 = BHAT[0] + BHAT[1] * area + BHAT[2] * bedrooms + BHAT[3] * age

print("Predicted Price for [3000, 3, 40]:", predicted_price_1)
print("Predicted Price for [2500, 4, 5]:", predicted_price_2)

Output:
Intercept (β0): 827087.5203078985
Coefficients (β1 for Area, β2 for Bedrooms, β3 for Age): 230.59826102645457 -167936.0972379893 -18554.365485283546
Predicted Price for [3000, 3, 40]: 272899.3922619524
Predicted Price for [2500, 4, 5]: 639066.9564956599



