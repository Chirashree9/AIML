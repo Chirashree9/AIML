{
 "cells": [
  {
   "cell_type": "code",
   "execution_count": 8,
   "id": "d9404b61",
   "metadata": {},
   "outputs": [
    {
     "name": "stdout",
     "output_type": "stream",
     "text": [
      "Coefficients: [ 1.06294938 -0.15180574 -0.40655013]\n",
      "Intercept: 38.873096698265826\n",
      "Predicted Y values: [48.8701537  44.36184213]\n"
     ]
    }
   ],
   "source": [
    "#1\n",
    "import pandas as pd\n",
    "import numpy as np\n",
    "from sklearn.linear_model import LinearRegression\n",
    "\n",
    "# Load the dataset\n",
    "data = pd.read_csv('Data1.csv')\n",
    "\n",
    "\n",
    "# Handle missing values if necessary (e.g., fill with mean or drop)\n",
    "data.fillna(data.mean(), inplace=True)\n",
    "\n",
    "# Define features and target variable\n",
    "X = data[['X1', 'X2', 'X3']]\n",
    "y = data['Y']\n",
    "\n",
    "# Create and train the model\n",
    "model = LinearRegression()\n",
    "model.fit(X, y)\n",
    "\n",
    "# Display the coefficients\n",
    "coefficients = model.coef_\n",
    "intercept = model.intercept_\n",
    "print(\"Coefficients:\", coefficients)\n",
    "print(\"Intercept:\", intercept)\n",
    "\n",
    "# Predict Y values for given inputs\n",
    "new_data = np.array([[50, 70, 80], [30, 40, 50]])\n",
    "predicted_Y = model.predict(new_data)\n",
    "\n",
    "print(\"Predicted Y values:\", predicted_Y)\n"
   ]
  },
  {
   "cell_type": "code",
   "execution_count": 9,
   "id": "0954bf5b",
   "metadata": {},
   "outputs": [
    {
     "name": "stdout",
     "output_type": "stream",
     "text": [
      "Coefficients: [   137.25 -26025.    -6825.  ]\n",
      "Intercept: 383724.9999999998\n",
      "Predicted Prices: [444400. 588625.]\n"
     ]
    }
   ],
   "source": [
    "#2\n",
    "import pandas as pd\n",
    "import numpy as np\n",
    "from sklearn.linear_model import LinearRegression\n",
    "\n",
    "# Create the dataset\n",
    "data = {\n",
    "    'Area': [2600, 3000, 3200, 3600, 4000],\n",
    "    'Bedrooms': [3, 4, 3, 3, 5],\n",
    "    'Age': [20, 15, 18, 30, 8],\n",
    "    'Price': [550000, 565000, 610000, 595000, 760000]\n",
    "}\n",
    "\n",
    "# Convert the dictionary to a DataFrame\n",
    "df = pd.DataFrame(data)\n",
    "\n",
    "# Fill any missing values; for simplicity, we will use the mean\n",
    "df.fillna(df.mean(), inplace=True)\n",
    "\n",
    "# Define features and target variable\n",
    "X = df[['Area', 'Bedrooms', 'Age']]\n",
    "y = df['Price']\n",
    "\n",
    "# Create and train the model\n",
    "model = LinearRegression()\n",
    "model.fit(X, y)\n",
    "\n",
    "# Display the coefficients and intercept\n",
    "coefficients = model.coef_\n",
    "intercept = model.intercept_\n",
    "print(\"Coefficients:\", coefficients)\n",
    "print(\"Intercept:\", intercept)\n",
    "\n",
    "# Predict prices for the new data points\n",
    "new_data = np.array([[3000, 3, 40], [2500, 4, 5]])\n",
    "predicted_prices = model.predict(new_data)\n",
    "\n",
    "print(\"Predicted Prices:\", predicted_prices)\n"
   ]
  },
  {
   "cell_type": "code",
   "execution_count": null,
   "id": "a8ca8b3c",
   "metadata": {},
   "outputs": [],
   "source": []
  }
 ],
 "metadata": {
  "kernelspec": {
   "display_name": "Python 3 (ipykernel)",
   "language": "python",
   "name": "python3"
  },
  "language_info": {
   "codemirror_mode": {
    "name": "ipython",
    "version": 3
   },
   "file_extension": ".py",
   "mimetype": "text/x-python",
   "name": "python",
   "nbconvert_exporter": "python",
   "pygments_lexer": "ipython3",
   "version": "3.9.7"
  }
 },
 "nbformat": 4,
 "nbformat_minor": 5
}
