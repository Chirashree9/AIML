{
 "cells": [
  {
   "cell_type": "code",
   "execution_count": 5,
   "id": "6d1146e4",
   "metadata": {},
   "outputs": [
    {
     "name": "stdout",
     "output_type": "stream",
     "text": [
      "[1, 10.0, 'Hello', 1, 234, 'Hii', [10, 100, 111], ('chiru', 'shree')]\n"
     ]
    }
   ],
   "source": [
    "l1=[1,10.0,\"Hello\",1,234,\"Hii\",[10,100,111],(\"chiru\",\"shree\")]\n",
    "print(l1)"
   ]
  },
  {
   "cell_type": "code",
   "execution_count": 8,
   "id": "e7a29d5f",
   "metadata": {},
   "outputs": [
    {
     "name": "stdout",
     "output_type": "stream",
     "text": [
      "Not\n"
     ]
    }
   ],
   "source": [
    "l1=[10,20,30,40]\n",
    "if 50 in l1:\n",
    "    print(\"Exists\")\n",
    "else:\n",
    "    print(\"Not\")"
   ]
  },
  {
   "cell_type": "code",
   "execution_count": 12,
   "id": "8a331b65",
   "metadata": {},
   "outputs": [
    {
     "name": "stdout",
     "output_type": "stream",
     "text": [
      "Length of the list is: 5\n"
     ]
    }
   ],
   "source": [
    "l1=[10,60,50,40,100]\n",
    "print(\"Length of the list is:\",len(l1))"
   ]
  },
  {
   "cell_type": "code",
   "execution_count": 14,
   "id": "8f5237ea",
   "metadata": {},
   "outputs": [
    {
     "name": "stdout",
     "output_type": "stream",
     "text": [
      "[1, 4, 9, 16, 25]\n"
     ]
    }
   ],
   "source": [
    "l1=[]\n",
    "for i in range(1,6):\n",
    "    l1.append(i ** 2)\n",
    "print(l1)"
   ]
  },
  {
   "cell_type": "code",
   "execution_count": 20,
   "id": "95057e83",
   "metadata": {},
   "outputs": [
    {
     "name": "stdout",
     "output_type": "stream",
     "text": [
      "[500, 200, 100, 37, 10]\n"
     ]
    }
   ],
   "source": [
    "l1=[100,200,10,500,37]\n",
    "l1.sort(reverse=True)\n",
    "print(l1)"
   ]
  },
  {
   "cell_type": "code",
   "execution_count": 27,
   "id": "83c411d5",
   "metadata": {},
   "outputs": [
    {
     "name": "stdout",
     "output_type": "stream",
     "text": [
      "Lists are not equal\n",
      "Sorted lists are equal\n"
     ]
    }
   ],
   "source": [
    "l1=[10,20,30,40]\n",
    "l2=[50,20,60,10]\n",
    "def cmp(l1,l2):\n",
    "    if(set(l1)==set(l2)):\n",
    "        print(\"Lists are equal\")\n",
    "    else:\n",
    "        print(\"Lists are not equal\")\n",
    "    if(l1.sort()==l2.sort()):\n",
    "        print(\"Sorted lists are equal\")\n",
    "    else:\n",
    "        print(\"Sorted lists are not equal\")\n",
    "cmp(l1,l2)\n",
    "    "
   ]
  },
  {
   "cell_type": "code",
   "execution_count": 29,
   "id": "83a2091e",
   "metadata": {},
   "outputs": [
    {
     "name": "stdout",
     "output_type": "stream",
     "text": [
      "[100, 56, 78, 23]\n",
      "[100, 56, 78]\n",
      "[]\n"
     ]
    }
   ],
   "source": [
    "l1=[100,200,56,78,23]\n",
    "l1.remove(200)\n",
    "print(l1)\n",
    "l1.pop(3)\n",
    "print(l1)\n",
    "l1.clear()\n",
    "print(l1)"
   ]
  },
  {
   "cell_type": "code",
   "execution_count": 30,
   "id": "9b6d947b",
   "metadata": {},
   "outputs": [
    {
     "name": "stdout",
     "output_type": "stream",
     "text": [
      "Integer array\n",
      "[10, 20, 30, 40]\n",
      "Array converted to float type:\n",
      "[10. 20. 30. 40.]\n"
     ]
    }
   ],
   "source": [
    "import numpy as np\n",
    "a=[10,20,30,40]\n",
    "print(\"Integer array:\")\n",
    "print(a)\n",
    "x=np.asfarray(a)\n",
    "print(\"Array converted to float type:\")\n",
    "print(x)"
   ]
  },
  {
   "cell_type": "code",
   "execution_count": 31,
   "id": "a3c9ab7c",
   "metadata": {},
   "outputs": [
    {
     "name": "stdout",
     "output_type": "stream",
     "text": [
      "[10, 20, 60, 100]\n",
      "(100, 200, 300)\n",
      "After converting list into array\n",
      "[ 10  20  60 100]\n",
      "After converting tuple into array\n",
      "[100 200 300]\n"
     ]
    }
   ],
   "source": [
    "import numpy as np\n",
    "l1=[10,20,60,100]\n",
    "a1=np.array(l1)\n",
    "t1=(100,200,300)\n",
    "a2=np.array(t1)\n",
    "print(l1)\n",
    "print(t1)\n",
    "print(\"After converting list into array\")\n",
    "print(a1)\n",
    "print(\"After converting tuple into array\")\n",
    "print(a2)\n"
   ]
  },
  {
   "cell_type": "code",
   "execution_count": 32,
   "id": "5c434198",
   "metadata": {},
   "outputs": [
    {
     "name": "stdout",
     "output_type": "stream",
     "text": [
      "After converting list into array\n",
      "[ 10  20  60 100]\n",
      "After converting tuple into array\n",
      "[100 200 300]\n"
     ]
    }
   ],
   "source": [
    "import numpy as np\n",
    "l1=[10,20,60,100]\n",
    "t1=(100,200,300)\n",
    "a1=np.asarray(l1)\n",
    "a2=np.asarray(t1)\n",
    "print(\"After converting list into array\")\n",
    "print(a1)\n",
    "print(\"After converting tuple into array\")\n",
    "print(a2)"
   ]
  },
  {
   "cell_type": "code",
   "execution_count": 33,
   "id": "cdec9fa5",
   "metadata": {},
   "outputs": [
    {
     "name": "stdout",
     "output_type": "stream",
     "text": [
      "[2 3 4 5]\n"
     ]
    }
   ],
   "source": [
    "import numpy as np\n",
    "x=np.arange(2,6).reshape(4)\n",
    "print(x)"
   ]
  },
  {
   "cell_type": "code",
   "execution_count": 34,
   "id": "1944981b",
   "metadata": {},
   "outputs": [
    {
     "name": "stdout",
     "output_type": "stream",
     "text": [
      "[[2 3 4 5]\n",
      " [6 7 8 9]]\n"
     ]
    }
   ],
   "source": [
    "import numpy as np\n",
    "x=np.arange(2,10).reshape(2,4)\n",
    "print(x)"
   ]
  },
  {
   "cell_type": "code",
   "execution_count": 36,
   "id": "32dabd6b",
   "metadata": {},
   "outputs": [
    {
     "name": "stdout",
     "output_type": "stream",
     "text": [
      "[[[ 0  1]\n",
      "  [ 2  3]\n",
      "  [ 4  5]]\n",
      "\n",
      " [[ 6  7]\n",
      "  [ 8  9]\n",
      "  [10 11]]\n",
      "\n",
      " [[12 13]\n",
      "  [14 15]\n",
      "  [16 17]]\n",
      "\n",
      " [[18 19]\n",
      "  [20 21]\n",
      "  [22 23]]]\n"
     ]
    }
   ],
   "source": [
    "import numpy as np\n",
    "x=np.arange(24).reshape(4,3,2)\n",
    "print(x)"
   ]
  },
  {
   "cell_type": "code",
   "execution_count": 1,
   "id": "78f2c8a5",
   "metadata": {},
   "outputs": [
    {
     "name": "stdout",
     "output_type": "stream",
     "text": [
      "Enter the first number:12\n",
      "Enter the second number:15\n",
      "LCM is: 60\n"
     ]
    }
   ],
   "source": [
    "a=int(input(\"Enter the first number:\"))\n",
    "b=int(input(\"Enter the second number:\"))\n",
    "if(a>b):\n",
    "    min1=a\n",
    "else:\n",
    "    min1=b\n",
    "while(1):\n",
    "    if(min1%a==0 and min1%b==0):\n",
    "        print(\"LCM is:\",min1)\n",
    "        break\n",
    "    min1=min1+1"
   ]
  },
  {
   "cell_type": "code",
   "execution_count": null,
   "id": "7f921620",
   "metadata": {},
   "outputs": [],
   "source": []
  }
 ],
 "metadata": {
  "kernelspec": {
   "display_name": "Python 3 (ipykernel)",
   "language": "python",
   "name": "python3"
  },
  "language_info": {
   "codemirror_mode": {
    "name": "ipython",
    "version": 3
   },
   "file_extension": ".py",
   "mimetype": "text/x-python",
   "name": "python",
   "nbconvert_exporter": "python",
   "pygments_lexer": "ipython3",
   "version": "3.9.7"
  }
 },
 "nbformat": 4,
 "nbformat_minor": 5
}
