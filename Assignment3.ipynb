{
 "cells": [
  {
   "cell_type": "code",
   "execution_count": 21,
   "id": "20ff804c",
   "metadata": {},
   "outputs": [
    {
     "name": "stdout",
     "output_type": "stream",
     "text": [
      "Enter your name(First,Middle,Last)Chirashree G Poojary\n",
      "C. G. P.\n"
     ]
    }
   ],
   "source": [
    "name=input(\"Enter your name(First,Middle,Last)\")\n",
    "initial=name.split()\n",
    "first=initial[0][0]\n",
    "second=initial[1][0]\n",
    "third=initial[2][0]\n",
    "print(first.upper()+\".\"+\" \"+second.upper()+\".\"+\" \"+third.upper()+\".\") "
   ]
  },
  {
   "cell_type": "code",
   "execution_count": 27,
   "id": "eff08ced",
   "metadata": {},
   "outputs": [
    {
     "name": "stdout",
     "output_type": "stream",
     "text": [
      "Enter your passwordChiru0902\n",
      "Successful!!You have entered strong password\n"
     ]
    }
   ],
   "source": [
    "password=input(\"Enter your password\")\n",
    "upper=False\n",
    "lower=False\n",
    "digit=False\n",
    "for char in password:\n",
    "        if char.isupper():\n",
    "            upper=True\n",
    "        if char.islower():\n",
    "            lower=True\n",
    "        if char.isdigit():\n",
    "            digit=True\n",
    "if len(password)<8:\n",
    "    print(\"The password must be at least eight characters long.\")\n",
    "elif not upper:\n",
    "    print(\"The password must contain at least one uppercase letter.\")\n",
    "elif not lower:\n",
    "    print(\"The password must contain at least one lowercase letter.\")\n",
    "elif not digit:\n",
    "    print(\"The password must contain at least one numeric digit.\")\n",
    "else:\n",
    "    print(\"Successful!!You have entered strong password\")           "
   ]
  },
  {
   "cell_type": "code",
   "execution_count": 30,
   "id": "104b17a8",
   "metadata": {},
   "outputs": [
    {
     "name": "stdout",
     "output_type": "stream",
     "text": [
      "Enter a string: first and last\n",
      "tirst and lasf\n"
     ]
    }
   ],
   "source": [
    "string=input(\"Enter a string: \")\n",
    "x=list(string)\n",
    "temp=x[0]\n",
    "x[0]=x[-1]\n",
    "x[-1]=temp\n",
    "print(\"\".join(x))"
   ]
  },
  {
   "cell_type": "code",
   "execution_count": 24,
   "id": "7662458c",
   "metadata": {},
   "outputs": [
    {
     "name": "stdout",
     "output_type": "stream",
     "text": [
      "Enter a string: Development\n",
      "Total vowels are :4\n"
     ]
    }
   ],
   "source": [
    "string=input(\"Enter a string: \").lower()\n",
    "count=0\n",
    "for i in string:\n",
    "    if i == 'a' or i == 'e' or i == 'i' or i == 'o' or i == 'u':\n",
    "        count+=1\n",
    "if count==0:\n",
    "    print('No vowels found')\n",
    "else:\n",
    "    print('Total vowels are :' + str(count))"
   ]
  },
  {
   "cell_type": "code",
   "execution_count": null,
   "id": "ae7ff69b",
   "metadata": {},
   "outputs": [],
   "source": []
  },
  {
   "cell_type": "code",
   "execution_count": 25,
   "id": "4a4c4ad7",
   "metadata": {},
   "outputs": [
    {
     "name": "stdout",
     "output_type": "stream",
     "text": [
      "Enter a string: My Mobile No: 67286282572\n",
      "The number of uppercase letters in the string:  3\n",
      "The number of lowercase letters in the string:  7\n",
      "The number of digits in the string:  11\n"
     ]
    }
   ],
   "source": [
    "string=input(\"Enter a string: \")\n",
    "upper=0\n",
    "lower=0\n",
    "digits=0\n",
    "for char in string:\n",
    "    if char.isupper():\n",
    "        upper+=1\n",
    "    if char.islower():\n",
    "        lower+=1\n",
    "    if char.isdigit():\n",
    "        digits+=1\n",
    "print(\"The number of uppercase letters in the string: \",upper)\n",
    "print(\"The number of lowercase letters in the string: \",lower)\n",
    "print(\"The number of digits in the string: \",digits)"
   ]
  },
  {
   "cell_type": "code",
   "execution_count": null,
   "id": "c95ce4aa",
   "metadata": {},
   "outputs": [],
   "source": []
  }
 ],
 "metadata": {
  "kernelspec": {
   "display_name": "Python 3 (ipykernel)",
   "language": "python",
   "name": "python3"
  },
  "language_info": {
   "codemirror_mode": {
    "name": "ipython",
    "version": 3
   },
   "file_extension": ".py",
   "mimetype": "text/x-python",
   "name": "python",
   "nbconvert_exporter": "python",
   "pygments_lexer": "ipython3",
   "version": "3.9.7"
  }
 },
 "nbformat": 4,
 "nbformat_minor": 5
}
