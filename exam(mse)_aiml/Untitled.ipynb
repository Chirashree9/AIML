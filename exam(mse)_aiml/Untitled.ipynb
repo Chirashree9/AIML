{
 "cells": [
  {
   "cell_type": "code",
   "execution_count": 43,
   "id": "75df30b8",
   "metadata": {},
   "outputs": [
    {
     "name": "stdout",
     "output_type": "stream",
     "text": [
      "Cluster:[[(185, 72), (179, 68), (182, 72), (188, 77), (180, 71), (180, 70), (183, 84), (180, 88), (180, 67), (177, 76)], [(170, 56), (168, 60)]]\n",
      "Centroid:[[181.4, 74.5], [169.0, 58.0]]\n"
     ]
    }
   ],
   "source": [
    "import numpy as np\n",
    "def kmeans(x,y,k,iteration):\n",
    "    centroids=[(x[i],y[i]) for i in range(k)]\n",
    "    for i in range(iteration):\n",
    "        clusters=[[] for j in range(k)]\n",
    "    for i in range(len(x)):\n",
    "        distances=[((x[i]-cx)**2 + (y[i]-cy)**2) for cx,cy in centroids]\n",
    "        ci=distances.index(min(distances))\n",
    "        clusters[ci].append((x[i],y[i]))\n",
    "    new_cen=[]\n",
    "    for i,cluster in enumerate(clusters):\n",
    "        if cluster:\n",
    "            avgx=np.sum([p[0] for p in cluster])/len(cluster)\n",
    "            avgy=np.sum([p[1] for p in cluster])/len(cluster)\n",
    "            new_cen.append([avgx,avgy])\n",
    "        else:\n",
    "            new_cen.append(centroids[i])\n",
    "    centroids=new_cen\n",
    "    return centroids,clusters\n",
    "   \n",
    "x=[185,170,168,179,182,188,180,180,183,180,180,177]\n",
    "y=[72,56,60,68,72,77,71,70,84,88,67,76]\n",
    "k=2\n",
    "iteration=10\n",
    "centroids,cluster=kmeans(x,y,k,iteration)\n",
    "print(f\"Cluster:{cluster}\")\n",
    "print(f\"Centroid:{centroids}\")\n",
    "\n",
    "\n",
    "\n",
    "     "
   ]
  },
  {
   "cell_type": "code",
   "execution_count": 34,
   "id": "1e31eb01",
   "metadata": {},
   "outputs": [
    {
     "name": "stdout",
     "output_type": "stream",
     "text": [
      "3.0 6.0\n",
      "Slope is: 2.0\n",
      "Intercept is: 0.0\n",
      "10.0\n",
      "Mean Square Error(MSE): 0.0\n"
     ]
    }
   ],
   "source": [
    "import numpy as np\n",
    "import pandas as pd\n",
    "x=[1,2,3,4,5]\n",
    "y=[2,4,6,8,10]\n",
    "mean_x=np.mean(x)\n",
    "mean_y=np.mean(y)\n",
    "print(mean_x,mean_y)\n",
    "numer=0\n",
    "denom=0\n",
    "n=len(x)\n",
    "for i in range(n):\n",
    "    numer+=(x[i]-mean_x)*(y[i]-mean_y)\n",
    "    denom+=(x[i]-mean_x)**2\n",
    "m=numer/denom\n",
    "print(f\"Slope is: {m}\")\n",
    "c=m*mean_x-mean_y\n",
    "print(f\"Intercept is: {c}\")\n",
    "mse=0\n",
    "for i in range(n):\n",
    "    ypred=m*x[i]+c\n",
    "    mse+=(y[i]-ypred)**2\n",
    "error=mse/n\n",
    "print(f\"Mean Square Error(MSE): {error}\")"
   ]
  },
  {
   "cell_type": "code",
   "execution_count": null,
   "id": "fab21951",
   "metadata": {},
   "outputs": [],
   "source": [
    "\n"
   ]
  }
 ],
 "metadata": {
  "kernelspec": {
   "display_name": "Python 3 (ipykernel)",
   "language": "python",
   "name": "python3"
  },
  "language_info": {
   "codemirror_mode": {
    "name": "ipython",
    "version": 3
   },
   "file_extension": ".py",
   "mimetype": "text/x-python",
   "name": "python",
   "nbconvert_exporter": "python",
   "pygments_lexer": "ipython3",
   "version": "3.9.7"
  }
 },
 "nbformat": 4,
 "nbformat_minor": 5
}
